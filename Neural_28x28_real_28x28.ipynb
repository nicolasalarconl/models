{
 "cells": [
  {
   "cell_type": "markdown",
   "metadata": {
    "id": "ZOysBVxXLNDq"
   },
   "source": [
    "# Params"
   ]
  },
  {
   "cell_type": "markdown",
   "metadata": {
    "id": "8DiLRQ-sM0Cg"
   },
   "source": [
    "**Imports**"
   ]
  },
  {
   "cell_type": "code",
   "execution_count": 1,
   "metadata": {},
   "outputs": [
    {
     "name": "stdout",
     "output_type": "stream",
     "text": [
      "Collecting tqdm\n",
      "  Downloading tqdm-4.60.0-py2.py3-none-any.whl (75 kB)\n",
      "\u001b[K     |████████████████████████████████| 75 kB 822 kB/s eta 0:00:011\n",
      "\u001b[?25hInstalling collected packages: tqdm\n",
      "Successfully installed tqdm-4.60.0\n",
      "Note: you may need to restart the kernel to use updated packages.\n"
     ]
    }
   ],
   "source": [
    "pip install tqdm"
   ]
  },
  {
   "cell_type": "code",
   "execution_count": 2,
   "metadata": {},
   "outputs": [
    {
     "name": "stdout",
     "output_type": "stream",
     "text": [
      "Collecting torchvision\n",
      "  Downloading torchvision-0.9.1-cp39-cp39-manylinux1_x86_64.whl (17.3 MB)\n",
      "\u001b[K     |████████████████████████████████| 17.3 MB 12.1 MB/s eta 0:00:01\n",
      "\u001b[?25hCollecting torch==1.8.1\n",
      "  Downloading torch-1.8.1-cp39-cp39-manylinux1_x86_64.whl (804.1 MB)\n",
      "\u001b[K     |████████████████████████████████| 804.1 MB 10 kB/s s eta 0:00:01\n",
      "\u001b[?25hRequirement already satisfied: numpy in /home/nicolas/interferometry/models/lib/python3.9/site-packages (from torchvision) (1.20.3)\n",
      "Requirement already satisfied: pillow>=4.1.1 in /home/nicolas/interferometry/models/lib/python3.9/site-packages (from torchvision) (8.2.0)\n",
      "Collecting typing-extensions\n",
      "  Downloading typing_extensions-3.10.0.0-py3-none-any.whl (26 kB)\n",
      "Installing collected packages: typing-extensions, torch, torchvision\n",
      "Successfully installed torch-1.8.1 torchvision-0.9.1 typing-extensions-3.10.0.0\n",
      "Note: you may need to restart the kernel to use updated packages.\n"
     ]
    }
   ],
   "source": [
    "pip install torchvision"
   ]
  },
  {
   "cell_type": "code",
   "execution_count": 3,
   "metadata": {},
   "outputs": [
    {
     "name": "stdout",
     "output_type": "stream",
     "text": [
      "Requirement already satisfied: opencv-python in /home/nicolas/interferometry/models/lib/python3.9/site-packages (4.5.2.52)\n",
      "Requirement already satisfied: numpy>=1.19.3 in /home/nicolas/interferometry/models/lib/python3.9/site-packages (from opencv-python) (1.20.3)\n",
      "Note: you may need to restart the kernel to use updated packages.\n"
     ]
    }
   ],
   "source": [
    "pip install opencv-python"
   ]
  },
  {
   "cell_type": "code",
   "execution_count": 4,
   "metadata": {},
   "outputs": [
    {
     "name": "stdout",
     "output_type": "stream",
     "text": [
      "Requirement already satisfied: astropy in /home/nicolas/interferometry/models/lib/python3.9/site-packages (4.2.1)\n",
      "Requirement already satisfied: pyerfa in /home/nicolas/interferometry/models/lib/python3.9/site-packages (from astropy) (2.0.0)\n",
      "Requirement already satisfied: numpy>=1.17 in /home/nicolas/interferometry/models/lib/python3.9/site-packages (from astropy) (1.20.3)\n",
      "Note: you may need to restart the kernel to use updated packages.\n"
     ]
    }
   ],
   "source": [
    "pip install astropy"
   ]
  },
  {
   "cell_type": "code",
   "execution_count": 5,
   "metadata": {},
   "outputs": [],
   "source": [
    "#pip install -U notebook-as-pdf\n"
   ]
  },
  {
   "cell_type": "code",
   "execution_count": 6,
   "metadata": {
    "colab": {
     "base_uri": "https://localhost:8080/"
    },
    "id": "GJh6KJu2LCtT",
    "outputId": "f822dbc3-1276-4193-996a-09215447f4bc"
   },
   "outputs": [],
   "source": [
    "#Download\n",
    "     #tqdm\n",
    "     #torchvision\n",
    "     #cv2   \n",
    "#Pytorch dataset \n",
    "from tqdm import tqdm\n",
    "from torchvision import transforms\n",
    "from torch.utils.data import Dataset,DataLoader\n",
    "from astropy.io import fits\n",
    "import numpy as np\n",
    "import random\n",
    "\n",
    "#Deep Learning\n",
    "import torch \n",
    "import torch.nn as nn\n",
    "import torch.optim as optim\n",
    "import torch.nn.functional as F\n",
    "from torchvision.utils import save_image\n",
    "#images#\n",
    "import cv2\n",
    "import os\n",
    "from matplotlib import pyplot as plt\n",
    "\n",
    "# Drive\n",
    "#from google.colab import drive\n",
    "#drive.mount('/content/drive')"
   ]
  },
  {
   "cell_type": "markdown",
   "metadata": {
    "id": "1hy61KC0N940"
   },
   "source": [
    "**Params Images**"
   ]
  },
  {
   "cell_type": "code",
   "execution_count": 7,
   "metadata": {
    "id": "xWbxZ_iuN9dF"
   },
   "outputs": [],
   "source": [
    "N = 28 # image size\n",
    "N_PSF = 28 # psf size\n",
    "TYPE_PSF = 'real_28x28' "
   ]
  },
  {
   "cell_type": "markdown",
   "metadata": {
    "id": "l9fjBnRQNr13"
   },
   "source": [
    "**Params Dataset Python**\n"
   ]
  },
  {
   "cell_type": "code",
   "execution_count": 44,
   "metadata": {
    "id": "84_mVq1RNrEr"
   },
   "outputs": [],
   "source": [
    "PATH_IMAGES = 'dataset/images_'+str(N)+'x'+str(N) #path where the dataset images is saved\n",
    "PATH_CONVOLUTION = 'dataset/images_'+str(N)+'x'+str(N)+'_'+TYPE_PSF+'/convolution' #path where the dataset convolution is saved\n",
    "PATH_PSF_SAVE = 'dataset/images_'+str(N)+'x'+str(N)+'_'+TYPE_PSF+'/psf' #path where the dataset convolution is saved\n",
    "\n",
    "INITIAL_DATASET = 0  #initial index for the names of the saved images \n",
    "FINAL_DATASET =   10000#final index for the names of the saved images \n",
    "PERC_TRAIN = 0.7 # (70%) #train percentage \n",
    "PERC_VAL = 0.2 #  (20#) #validation percentage\n",
    "PERC_TEST =  0.1 # (10%) #test percentag\n",
    "\n",
    "BATCH_TRAIN = 2\n",
    "BATCH_VALIDATION = 2 #batch sizeimages\n",
    "BATCH_TEST = 2"
   ]
  },
  {
   "cell_type": "markdown",
   "metadata": {
    "id": "Q228E724M150"
   },
   "source": [
    "**Params Dataset Python**\n"
   ]
  },
  {
   "cell_type": "code",
   "execution_count": 9,
   "metadata": {
    "id": "3Q5Y1eteM1-H"
   },
   "outputs": [],
   "source": [
    "NUM_EPOCHS = 10\n",
    "LEARNING_RATE = 1e-3\n",
    "PATH_VALIDATION =  'dataset/images_'+str(N)+'x'+str(N)+'_'+TYPE_PSF+'/validation'\n",
    "PATH_TEST =  'dataset/images_'+str(N)+'x'+str(N)+'_'+TYPE_PSF+'/test'\n",
    "PATH_GRAPH = 'dataset/images_'+str(N)+'x'+str(N)+'_'+TYPE_PSF+'/graph'"
   ]
  },
  {
   "cell_type": "markdown",
   "metadata": {
    "id": "QzeBIRG0SfZ7"
   },
   "source": [
    "**Auxiliary functions**"
   ]
  },
  {
   "cell_type": "markdown",
   "metadata": {
    "id": "sttjNq8HVV0D"
   },
   "source": [
    "TODO: comentar"
   ]
  },
  {
   "cell_type": "code",
   "execution_count": 10,
   "metadata": {
    "id": "voP0tAiDVWaH"
   },
   "outputs": [],
   "source": [
    "def save_decoded_image(img, name):\n",
    "    img = img.view(img.size(0), 1, N, N)\n",
    "    save_image(img, name)"
   ]
  },
  {
   "cell_type": "markdown",
   "metadata": {},
   "source": [
    "TODO: comentar"
   ]
  },
  {
   "cell_type": "code",
   "execution_count": 11,
   "metadata": {},
   "outputs": [],
   "source": [
    "def display_two(a, b, title1 = \"Original\", title2 = \"Edited\"):\n",
    "    plt.subplot(121), plt.imshow(a), plt.title(title1)\n",
    "    plt.xticks([]), plt.yticks([])\n",
    "    plt.subplot(122), plt.imshow(b), plt.title(title2)\n",
    "    plt.xticks([]), plt.yticks([])\n",
    "    plt.show()\n",
    "    \n",
    "    \n",
    "# Display one image\n",
    "def display(a, title1 = \"Original\"):\n",
    "    plt.imshow(a), plt.title(title1)\n",
    "    plt.show()"
   ]
  },
  {
   "cell_type": "markdown",
   "metadata": {
    "id": "3iLIDr8ESZ8s"
   },
   "source": [
    "display fit image from a directory"
   ]
  },
  {
   "cell_type": "code",
   "execution_count": 47,
   "metadata": {
    "id": "qtT-Kr-hSaDF"
   },
   "outputs": [],
   "source": [
    "def display_psf(path,type_psf):\n",
    "  hdul=fits.open(path+'/psf_'+type_psf+'.fits')\n",
    "  hdr = hdul[0].header\n",
    "  size = hdr[3]\n",
    "  data = hdul[0].data.astype(np.float32)\n",
    "  image = np.reshape(data,[size,size])\n",
    "  plt.imshow(image)"
   ]
  },
  {
   "cell_type": "markdown",
   "metadata": {
    "id": "-XaoEGyPSRhI"
   },
   "source": [
    "read fit image dataset from a directory\n",
    "\n",
    "\n",
    "*   `path`: path where the images are\n",
    "*   `type_image`: *image* (simulated images) or *conv* (dirty images)\n",
    "*   `size_image`: TODO: comentar\n",
    "*   `initial`: initial index for the names of the saved images\n",
    "*   `final`: final index for the names of the saved images"
   ]
  },
  {
   "cell_type": "code",
   "execution_count": 13,
   "metadata": {
    "id": "CKzDxn-lSRn1"
   },
   "outputs": [],
   "source": [
    "def get_dataset(path,type_image,size_image,initial,final):\n",
    "  images = []\n",
    "  #path_file = path+'/'+type_image+'_'+str(size_image)+'x'+str(size_image)+'_'+str(initial)+'.fits'\n",
    "  #hdul=fits.open(path_file)  \n",
    "  #hdr = hdul[0].header\n",
    "  #size = hdr[3]\n",
    "  for i in range(initial,final):\n",
    "    path_file = path+'/'+type_image+'_'+str(size_image)+'x'+str(size_image)+'_'+str(i)+'.fits'\n",
    "    hdul=fits.open(path_file)\n",
    "    data = hdul[0].data.astype(np.float32)\n",
    "    image = np.reshape(data,[size_image,size_image])\n",
    "    images.append(image)\n",
    "  return images"
   ]
  },
  {
   "cell_type": "markdown",
   "metadata": {
    "id": "9bp3d5f5W71T"
   },
   "source": [
    "Function which makes a directory `path`."
   ]
  },
  {
   "cell_type": "code",
   "execution_count": 14,
   "metadata": {
    "id": "XLQi1rw8W7-c"
   },
   "outputs": [],
   "source": [
    "def make_dir(path):\n",
    "    if not os.path.exists(path):\n",
    "        os.makedirs(path)"
   ]
  },
  {
   "cell_type": "markdown",
   "metadata": {},
   "source": [
    "TODO:borrar"
   ]
  },
  {
   "cell_type": "code",
   "execution_count": 15,
   "metadata": {},
   "outputs": [],
   "source": [
    "def gauss(tamX,tamY,div):\n",
    "  x, y = np.meshgrid(np.linspace(-1,1,tamX), np.linspace(-1,1,tamY))\n",
    "  d = np.sqrt(x*x+y*y)\n",
    "  sigma, mu = 1/div, 0.0\n",
    "  gauss = np.exp(-( (d-mu)**2 / ( 2.0 * sigma**2 ) ) )\n",
    "  return gauss"
   ]
  },
  {
   "cell_type": "code",
   "execution_count": 41,
   "metadata": {},
   "outputs": [],
   "source": [
    "def display_fits(path):\n",
    "  hdul=fits.open(path)\n",
    "  hdr = hdul[0].header\n",
    "  size = hdr[3]\n",
    "  data = hdul[0].data.astype(np.float32)\n",
    "  image = np.reshape(data,[size,size])\n",
    "  plt.imshow(image)"
   ]
  },
  {
   "cell_type": "markdown",
   "metadata": {
    "id": "uKW5tIafnchl"
   },
   "source": [
    "# Pytorch Dataset"
   ]
  },
  {
   "cell_type": "markdown",
   "metadata": {
    "id": "dqr7H_C219Pm"
   },
   "source": [
    "**Params**"
   ]
  },
  {
   "cell_type": "code",
   "execution_count": 16,
   "metadata": {
    "colab": {
     "base_uri": "https://localhost:8080/"
    },
    "id": "k2lHn9pxnvMl",
    "outputId": "572845b4-b0a6-4e5b-f921-340dc7f6a719"
   },
   "outputs": [],
   "source": [
    "size = FINAL_DATASET- INITIAL_DATASET  #size of lot of the dataset\n",
    "size_train = round(size*PERC_TRAIN)\n",
    "size_validation =  round(size*PERC_VAL)\n",
    "size_test =  round(size*PERC_TEST)  \n",
    "batch_train_size=  BATCH_TRAIN \n",
    "batch_test_size=  BATCH_TEST\n",
    "batch_validation_size=  BATCH_VALIDATION\n",
    "data_image = get_dataset(PATH_IMAGES,'image',N,INITIAL_DATASET,FINAL_DATASET)\n",
    "data_dirty  = get_dataset(PATH_CONVOLUTION,'conv',N_PSF,INITIAL_DATASET,FINAL_DATASET)"
   ]
  },
  {
   "cell_type": "markdown",
   "metadata": {
    "id": "j1eGRAkE4-Wa"
   },
   "source": [
    "TODO: Comentar como en tutorial (DATAset create)"
   ]
  },
  {
   "cell_type": "code",
   "execution_count": 17,
   "metadata": {
    "id": "QkD8WPsiiarU"
   },
   "outputs": [],
   "source": [
    "class interferometryDataset(Dataset):\n",
    "  def __init__(self,datasetnoised,datasetclean,transform):\n",
    "    self.noise=datasetnoised\n",
    "    self.clean=datasetclean\n",
    "    self.transform=transform\n",
    "  \n",
    "  def __len__(self):\n",
    "    return len(self.noise)\n",
    "  \n",
    "  def __getitem__(self,idx):\n",
    "    xNoise=self.noise[idx]\n",
    "    xClean=self.clean[idx]\n",
    "    \n",
    "    if self.transform != None:\n",
    "      xNoise=self.transform(xNoise)\n",
    "      xClean=self.transform(xClean)\n",
    "\n",
    "    return (xNoise,xClean)"
   ]
  },
  {
   "cell_type": "markdown",
   "metadata": {
    "id": "QF5t_mpl4WmG"
   },
   "source": [
    "we define the transforms for the images of dataset."
   ]
  },
  {
   "cell_type": "code",
   "execution_count": 18,
   "metadata": {
    "id": "gs0CuSl-4WcR"
   },
   "outputs": [],
   "source": [
    "tsfms=transforms.Compose([\n",
    "    transforms.ToTensor()\n",
    "])"
   ]
  },
  {
   "cell_type": "markdown",
   "metadata": {
    "id": "_bFH3U2v48ZF"
   },
   "source": [
    "we divide the images into training and test sets"
   ]
  },
  {
   "cell_type": "code",
   "execution_count": 19,
   "metadata": {
    "id": "e4xkNrSrlVsp"
   },
   "outputs": [],
   "source": [
    "train_dirty = data_dirty[0:size_train]\n",
    "train_images = data_image[0:size_train]\n",
    "\n",
    "validation_dirty = data_dirty[size_train:size_train+size_validation]\n",
    "validation_image = data_image[size_train:size_train+size_validation]\n",
    "\n",
    "\n",
    "test_dirty = data_dirty[size_validation:size_validation+size_test]\n",
    "test_image = data_image[size_validation:size_validation+size_test]"
   ]
  },
  {
   "cell_type": "markdown",
   "metadata": {
    "id": "ecpnycPc6Zs4"
   },
   "source": [
    "we generate the dataset using `Dataloard` that eases the task of making iterable training and testing sets. "
   ]
  },
  {
   "cell_type": "code",
   "execution_count": 20,
   "metadata": {
    "id": "CeibVshrkm8P"
   },
   "outputs": [],
   "source": [
    "trainSet=interferometryDataset(train_dirty,train_images,tsfms)\n",
    "validationSet = interferometryDataset(validation_dirty,validation_image,tsfms)\n",
    "testSet=interferometryDataset(test_dirty,test_image,tsfms)\n",
    "\n",
    "\n",
    "trainLoader=DataLoader(trainSet,batch_train_size,shuffle=True)\n",
    "validationLoader=DataLoader(validationSet,batch_validation_size,shuffle=True)\n",
    "testLoader=DataLoader(testSet,batch_test_size,shuffle=True)"
   ]
  },
  {
   "cell_type": "markdown",
   "metadata": {
    "id": "AE5ARIWkoTtL"
   },
   "source": [
    "# Deep Learning"
   ]
  },
  {
   "cell_type": "markdown",
   "metadata": {
    "id": "qrO14pTK7oNR"
   },
   "source": [
    "**Auxiliary functions**"
   ]
  },
  {
   "cell_type": "markdown",
   "metadata": {
    "id": "BMXYUFfY7zjD"
   },
   "source": [
    "returns the CUDA GPU device or the CPU depending upon the availability. "
   ]
  },
  {
   "cell_type": "code",
   "execution_count": 21,
   "metadata": {
    "id": "-u8aSC_X7yhX"
   },
   "outputs": [],
   "source": [
    "def get_device():\n",
    "    if torch.cuda.is_available():\n",
    "        device = 'cuda:0'\n",
    "    else:\n",
    "        device = 'cpu'\n",
    "    return device"
   ]
  },
  {
   "cell_type": "markdown",
   "metadata": {
    "id": "JaY4Py3D99RD"
   },
   "source": [
    "TODO: Comentar"
   ]
  },
  {
   "cell_type": "code",
   "execution_count": 22,
   "metadata": {
    "colab": {
     "base_uri": "https://localhost:8080/"
    },
    "id": "HbchWHocox71",
    "outputId": "f8976d61-5660-4523-e9e7-cd0b6517e94e"
   },
   "outputs": [],
   "source": [
    "class Autoencoder(nn.Module):\n",
    "    def __init__(self):\n",
    "        super(Autoencoder, self).__init__()\n",
    "        # encoder layers\n",
    "        self.enc1 = nn.Conv2d(1, 64, kernel_size=3, padding=1)\n",
    "        self.enc2 = nn.Conv2d(64, 32, kernel_size=3, padding=1)\n",
    "        self.enc3 = nn.Conv2d(32, 16, kernel_size=3, padding=1)\n",
    "        self.enc4 = nn.Conv2d(16, 8, kernel_size=3, padding=1)\n",
    "        self.pool = nn.MaxPool2d(2, 2)\n",
    "        \n",
    "        # decoder layers\n",
    "        self.dec1 = nn.ConvTranspose2d(8, 8, kernel_size=3, stride=2)  \n",
    "        self.dec2 = nn.ConvTranspose2d(8, 16, kernel_size=3, stride=2)\n",
    "        self.dec3 = nn.ConvTranspose2d(16, 32, kernel_size=2, stride=2)\n",
    "        self.dec4 = nn.ConvTranspose2d(32, 64, kernel_size=2, stride=2)\n",
    "        self.out = nn.Conv2d(64, 1, kernel_size=3, padding=1)\n",
    "    def forward(self, x):\n",
    "        # encode\n",
    "        x = F.relu(self.enc1(x))\n",
    "        x = self.pool(x)\n",
    "        x = F.relu(self.enc2(x))\n",
    "        x = self.pool(x)\n",
    "        x = F.relu(self.enc3(x))\n",
    "        x = self.pool(x)\n",
    "        x = F.relu(self.enc4(x))\n",
    "        x = self.pool(x) # the latent space representation\n",
    "        \n",
    "        # decode\n",
    "        x = F.relu(self.dec1(x))\n",
    "        x = F.relu(self.dec2(x))\n",
    "        x = F.relu(self.dec3(x))\n",
    "        x = F.relu(self.dec4(x))\n",
    "        x = F.sigmoid(self.out(x))\n",
    "        return x\n",
    "net = Autoencoder()\n"
   ]
  },
  {
   "cell_type": "markdown",
   "metadata": {
    "id": "zTYhgJFfW2h-"
   },
   "source": [
    "TODO_ comentar"
   ]
  },
  {
   "cell_type": "code",
   "execution_count": 23,
   "metadata": {
    "id": "RmsbxIylo0WH"
   },
   "outputs": [],
   "source": [
    "criterion = nn.MSELoss()\n",
    "# the optimizaater\n",
    "optimizer = optim.Adam(net.parameters(), lr=LEARNING_RATE)"
   ]
  },
  {
   "cell_type": "markdown",
   "metadata": {
    "id": "TAIuS9ASW1dl"
   },
   "source": [
    "TODO_ comentar"
   ]
  },
  {
   "cell_type": "code",
   "execution_count": 24,
   "metadata": {
    "id": "lT3qExQxo19c"
   },
   "outputs": [],
   "source": [
    "def train(net, trainloader,validationloader, NUM_EPOCHS,path):\n",
    "    train_loss = []\n",
    "    valid_loss = []\n",
    "    for epoch in range(NUM_EPOCHS):\n",
    "        running_loss = 0.0\n",
    "        for dirty,clean in tqdm((trainloader)):\n",
    "            dirty,clean=dirty.to(device),clean.to(device)\n",
    "            optimizer.zero_grad()            \n",
    "            outputs = net(dirty)\n",
    "            loss = criterion(outputs, clean)\n",
    "            # backpropagation\n",
    "            loss.backward()\n",
    "            # update the parameters\n",
    "            optimizer.step()\n",
    "            running_loss += loss.item()\n",
    "        loss = running_loss / len(trainloader)\n",
    "        train_loss.append(loss)\n",
    "        \n",
    "        ## validation ## \n",
    "        validation_loss = 0.0\n",
    "        net.eval()  \n",
    "        for dirty, clean in validationloader:\n",
    "            dirty,clean=dirty.to(device),clean.to(device)\n",
    "            optimizer.zero_grad()            \n",
    "            outputs = net(dirty)\n",
    "            loss = criterion(outputs, clean)\n",
    "            validation_loss += loss.item()\n",
    "        loss = validation_loss / len(validationloader)\n",
    "        valid_loss.append(loss)\n",
    "        print('Epoch {} of {}, Train Loss: {:.3f}'.format(\n",
    "            epoch+1, NUM_EPOCHS, loss))\n",
    "        save_decoded_image(dirty.cpu().data, name='./'+path+'/noisy{}.png'.format(epoch))\n",
    "        save_decoded_image(outputs.cpu().data, name='./'+path+'/denoised{}.png'.format(epoch))\n",
    "        save_decoded_image(clean.cpu().data, name='./'+path+'/clean{}.png'.format(epoch))\n",
    "    return net,train_loss,valid_loss"
   ]
  },
  {
   "cell_type": "code",
   "execution_count": 39,
   "metadata": {},
   "outputs": [],
   "source": [
    "def test_image_reconstruction(net, testloader,path):\n",
    "    pnsr_1_list = []\n",
    "    pnsr_2_list = []\n",
    "    pnsr_3_list = []\n",
    "    index = 0\n",
    "    for dirty,clean in tqdm((testloader)):\n",
    "        dirty=dirty.to(device)\n",
    "        outputs = net(dirty)\n",
    "        dirty  = dirty.cpu().data\n",
    "        outputs = outputs.cpu().data\n",
    "        # psnr #\n",
    "        #psnr_1 = cv2.PSNR(clean.detach().numpy(), outputs.detach().numpy())\n",
    "        #psnr_2 = cv2.PSNR(clean.detach().numpy(),dirty.detach().numpy())\n",
    "        #psnr_3 = cv2.PSNR(dirty.detach().numpy(), outputs.detach().numpy())\n",
    "        psnr_1 = cv2.PSNR(np.array(clean), np.array(outputs))\n",
    "        psnr_2 = cv2.PSNR(np.array(clean), np.array(dirty))\n",
    "        psnr_3 = cv2.PSNR(np.array(dirty), np.array(outputs))\n",
    "        pnsr_1_list.append(psnr_1)\n",
    "        pnsr_2_list.append(psnr_2)\n",
    "        pnsr_3_list.append(psnr_3)\n",
    "        save_decoded_image(dirty, name='./'+path+'/noisy{}.png'.format(index))\n",
    "        save_decoded_image(outputs, name='./'+path+'/denoised{}.png'.format(index))\n",
    "        save_decoded_image(clean, name='./'+path+'/clean{}.png'.format(index))\n",
    "        index = index +1\n",
    "    return net,pnsr_1_list,pnsr_2_list,pnsr_3_list"
   ]
  },
  {
   "cell_type": "markdown",
   "metadata": {
    "id": "trwOXqGCW02U"
   },
   "source": [
    "TODO_ comentar"
   ]
  },
  {
   "cell_type": "code",
   "execution_count": 26,
   "metadata": {
    "colab": {
     "base_uri": "https://localhost:8080/"
    },
    "id": "VIuHxkdao7YJ",
    "outputId": "bd7c8c73-da27-494f-aa9d-31f6b90695f9"
   },
   "outputs": [
    {
     "name": "stdout",
     "output_type": "stream",
     "text": [
      "cuda:0\n"
     ]
    },
    {
     "data": {
      "text/plain": [
       "Autoencoder(\n",
       "  (enc1): Conv2d(1, 64, kernel_size=(3, 3), stride=(1, 1), padding=(1, 1))\n",
       "  (enc2): Conv2d(64, 32, kernel_size=(3, 3), stride=(1, 1), padding=(1, 1))\n",
       "  (enc3): Conv2d(32, 16, kernel_size=(3, 3), stride=(1, 1), padding=(1, 1))\n",
       "  (enc4): Conv2d(16, 8, kernel_size=(3, 3), stride=(1, 1), padding=(1, 1))\n",
       "  (pool): MaxPool2d(kernel_size=2, stride=2, padding=0, dilation=1, ceil_mode=False)\n",
       "  (dec1): ConvTranspose2d(8, 8, kernel_size=(3, 3), stride=(2, 2))\n",
       "  (dec2): ConvTranspose2d(8, 16, kernel_size=(3, 3), stride=(2, 2))\n",
       "  (dec3): ConvTranspose2d(16, 32, kernel_size=(2, 2), stride=(2, 2))\n",
       "  (dec4): ConvTranspose2d(32, 64, kernel_size=(2, 2), stride=(2, 2))\n",
       "  (out): Conv2d(64, 1, kernel_size=(3, 3), stride=(1, 1), padding=(1, 1))\n",
       ")"
      ]
     },
     "execution_count": 26,
     "metadata": {},
     "output_type": "execute_result"
    }
   ],
   "source": [
    "device = get_device()\n",
    "print(device)\n",
    "net.to(device)\n"
   ]
  },
  {
   "cell_type": "markdown",
   "metadata": {
    "id": "oBe1Nkf7WyEe"
   },
   "source": [
    "TODO_ comentar"
   ]
  },
  {
   "cell_type": "code",
   "execution_count": 28,
   "metadata": {
    "colab": {
     "base_uri": "https://localhost:8080/",
     "height": 1000
    },
    "id": "ih3ctZc-BGSL",
    "outputId": "f48f986d-62f4-4a41-e1c3-63cb483c3b0b"
   },
   "outputs": [
    {
     "name": "stderr",
     "output_type": "stream",
     "text": [
      "  0%|          | 0/3500 [00:00<?, ?it/s]/home/nicolas/interferometry/models/lib/python3.9/site-packages/torch/nn/functional.py:1709: UserWarning: nn.functional.sigmoid is deprecated. Use torch.sigmoid instead.\n",
      "  warnings.warn(\"nn.functional.sigmoid is deprecated. Use torch.sigmoid instead.\")\n",
      "100%|██████████| 3500/3500 [00:30<00:00, 114.62it/s]\n",
      "  1%|          | 20/3500 [00:00<00:17, 195.70it/s]"
     ]
    },
    {
     "name": "stdout",
     "output_type": "stream",
     "text": [
      "Epoch 1 of 10, Train Loss: 0.005\n"
     ]
    },
    {
     "name": "stderr",
     "output_type": "stream",
     "text": [
      "100%|██████████| 3500/3500 [00:30<00:00, 115.51it/s]\n",
      "  1%|          | 22/3500 [00:00<00:16, 213.58it/s]"
     ]
    },
    {
     "name": "stdout",
     "output_type": "stream",
     "text": [
      "Epoch 2 of 10, Train Loss: 0.005\n"
     ]
    },
    {
     "name": "stderr",
     "output_type": "stream",
     "text": [
      "100%|██████████| 3500/3500 [00:30<00:00, 115.17it/s]\n",
      "  1%|          | 21/3500 [00:00<00:17, 202.61it/s]"
     ]
    },
    {
     "name": "stdout",
     "output_type": "stream",
     "text": [
      "Epoch 3 of 10, Train Loss: 0.004\n"
     ]
    },
    {
     "name": "stderr",
     "output_type": "stream",
     "text": [
      "100%|██████████| 3500/3500 [00:30<00:00, 115.28it/s]\n",
      "  1%|          | 20/3500 [00:00<00:17, 199.04it/s]"
     ]
    },
    {
     "name": "stdout",
     "output_type": "stream",
     "text": [
      "Epoch 4 of 10, Train Loss: 0.004\n"
     ]
    },
    {
     "name": "stderr",
     "output_type": "stream",
     "text": [
      "100%|██████████| 3500/3500 [00:30<00:00, 115.69it/s]\n",
      "  1%|          | 19/3500 [00:00<00:18, 188.64it/s]"
     ]
    },
    {
     "name": "stdout",
     "output_type": "stream",
     "text": [
      "Epoch 5 of 10, Train Loss: 0.004\n"
     ]
    },
    {
     "name": "stderr",
     "output_type": "stream",
     "text": [
      "100%|██████████| 3500/3500 [00:30<00:00, 115.53it/s]\n",
      "  1%|          | 20/3500 [00:00<00:17, 195.86it/s]"
     ]
    },
    {
     "name": "stdout",
     "output_type": "stream",
     "text": [
      "Epoch 6 of 10, Train Loss: 0.004\n"
     ]
    },
    {
     "name": "stderr",
     "output_type": "stream",
     "text": [
      "100%|██████████| 3500/3500 [00:30<00:00, 115.92it/s]\n",
      "  1%|          | 21/3500 [00:00<00:16, 207.79it/s]"
     ]
    },
    {
     "name": "stdout",
     "output_type": "stream",
     "text": [
      "Epoch 7 of 10, Train Loss: 0.004\n"
     ]
    },
    {
     "name": "stderr",
     "output_type": "stream",
     "text": [
      "100%|██████████| 3500/3500 [00:30<00:00, 116.44it/s]\n",
      "  1%|          | 20/3500 [00:00<00:18, 191.84it/s]"
     ]
    },
    {
     "name": "stdout",
     "output_type": "stream",
     "text": [
      "Epoch 8 of 10, Train Loss: 0.004\n"
     ]
    },
    {
     "name": "stderr",
     "output_type": "stream",
     "text": [
      "100%|██████████| 3500/3500 [00:29<00:00, 117.14it/s]\n",
      "  1%|          | 18/3500 [00:00<00:19, 178.87it/s]"
     ]
    },
    {
     "name": "stdout",
     "output_type": "stream",
     "text": [
      "Epoch 9 of 10, Train Loss: 0.004\n"
     ]
    },
    {
     "name": "stderr",
     "output_type": "stream",
     "text": [
      "100%|██████████| 3500/3500 [00:29<00:00, 117.05it/s]\n"
     ]
    },
    {
     "name": "stdout",
     "output_type": "stream",
     "text": [
      "Epoch 10 of 10, Train Loss: 0.004\n"
     ]
    },
    {
     "data": {
      "image/png": "[encoded data removed]",
      "text/plain": [
       "<Figure size 432x288 with 1 Axes>"
      ]
     },
     "metadata": {
      "needs_background": "light"
     },
     "output_type": "display_data"
    }
   ],
   "source": [
    "make_dir(PATH_VALIDATION)\n",
    "make_dir(PATH_GRAPH)\n",
    "net,train_loss,validation_loss = train(net, trainLoader,validationLoader, NUM_EPOCHS,PATH_VALIDATION)\n",
    "plt.figure()\n",
    "plt.plot(train_loss)\n",
    "plt.plot(validation_loss)\n",
    "plt.title('Train Loss & Validation Loss')\n",
    "plt.ylabel('Loss')\n",
    "plt.xlabel('Epoch')\n",
    "plt.savefig(PATH_GRAPH+'/graph_loss_train_validation.png')"
   ]
  },
  {
   "cell_type": "code",
   "execution_count": 29,
   "metadata": {},
   "outputs": [
    {
     "name": "stdout",
     "output_type": "stream",
     "text": [
      "finalized\n"
     ]
    }
   ],
   "source": [
    "print(\"finalized\")"
   ]
  },
  {
   "cell_type": "markdown",
   "metadata": {
    "id": "66jt9LvVWzKk"
   },
   "source": [
    "TODO_ comentar"
   ]
  },
  {
   "cell_type": "code",
   "execution_count": 40,
   "metadata": {
    "colab": {
     "base_uri": "https://localhost:8080/"
    },
    "id": "_k0nIxLCBBAm",
    "outputId": "89fcddc4-9a56-4b76-cebc-0708ca590509"
   },
   "outputs": [
    {
     "name": "stderr",
     "output_type": "stream",
     "text": [
      "100%|██████████| 500/500 [00:01<00:00, 401.01it/s]\n"
     ]
    },
    {
     "data": {
      "image/png": "[encoded data removed]",
      "text/plain": [
       "<Figure size 432x288 with 1 Axes>"
      ]
     },
     "metadata": {
      "needs_background": "light"
     },
     "output_type": "display_data"
    }
   ],
   "source": [
    "make_dir(PATH_TEST) \n",
    "net,pnsr_1_list,pnsr_2_list,pnsr_3_list = test_image_reconstruction(net, testLoader,PATH_TEST)\n",
    "plt.hist(pnsr_1_list,  linewidth=1, label ='clean-output')\n",
    "plt.hist(pnsr_2_list,  linewidth=1, label = 'clean-dirty')\n",
    "plt.hist(pnsr_3_list, linewidth=1, label = 'dirty-output')\n",
    "plt.legend(loc='upper right')\n",
    "plt.savefig(PATH_GRAPH+'/graph_psnr.png')\n",
    "plt.show()\n"
   ]
  },
  {
   "cell_type": "code",
   "execution_count": null,
   "metadata": {},
   "outputs": [],
   "source": [
    "print(\"finalized\")"
   ]
  },
  {
   "cell_type": "markdown",
   "metadata": {},
   "source": [
    "# Resumen"
   ]
  },
  {
   "cell_type": "markdown",
   "metadata": {},
   "source": [
    "**Image 28x28 & PSF Real 28x28**\n"
   ]
  },
  {
   "cell_type": "markdown",
   "metadata": {},
   "source": [
    "**info image**: image size = 28x28, psf size = 28x28, type psf = real, dirty size = 28x28"
   ]
  },
  {
   "cell_type": "code",
   "execution_count": 52,
   "metadata": {},
   "outputs": [
    {
     "data": {
      "image/png": "[encoded data removed]",
      "text/plain": [
       "<Figure size 432x288 with 1 Axes>"
      ]
     },
     "metadata": {
      "needs_background": "light"
     },
     "output_type": "display_data"
    }
   ],
   "source": [
    "display_psf(PATH_PSF_SAVE,TYPE_PSF)"
   ]
  },
  {
   "cell_type": "code",
   "execution_count": 51,
   "metadata": {},
   "outputs": [
    {
     "data": {
      "image/png": "[encoded data removed]",
      "text/plain": [
       "<Figure size 432x288 with 2 Axes>"
      ]
     },
     "metadata": {},
     "output_type": "display_data"
    }
   ],
   "source": [
    "display_two(data_image[0],data_dirty[0],'image','dirty image')\n"
   ]
  },
  {
   "cell_type": "markdown",
   "metadata": {},
   "source": [
    "**Info Dataset**:\n",
    "size dataset = 10.000,\n",
    "batch = 2,\n",
    "train percentage = 70%,\n",
    "validation percentage = 20%,\n",
    "test percentage = 10%"
   ]
  },
  {
   "cell_type": "markdown",
   "metadata": {},
   "source": [
    "**Info Neural Network**: number of epochs = 15, learning rate = 1e-3"
   ]
  },
  {
   "cell_type": "code",
   "execution_count": 53,
   "metadata": {
    "scrolled": true
   },
   "outputs": [
    {
     "name": "stdout",
     "output_type": "stream",
     "text": [
      "Autoencoder(\n",
      "  (enc1): Conv2d(1, 64, kernel_size=(3, 3), stride=(1, 1), padding=(1, 1))\n",
      "  (enc2): Conv2d(64, 32, kernel_size=(3, 3), stride=(1, 1), padding=(1, 1))\n",
      "  (enc3): Conv2d(32, 16, kernel_size=(3, 3), stride=(1, 1), padding=(1, 1))\n",
      "  (enc4): Conv2d(16, 8, kernel_size=(3, 3), stride=(1, 1), padding=(1, 1))\n",
      "  (pool): MaxPool2d(kernel_size=2, stride=2, padding=0, dilation=1, ceil_mode=False)\n",
      "  (dec1): ConvTranspose2d(8, 8, kernel_size=(3, 3), stride=(2, 2))\n",
      "  (dec2): ConvTranspose2d(8, 16, kernel_size=(3, 3), stride=(2, 2))\n",
      "  (dec3): ConvTranspose2d(16, 32, kernel_size=(2, 2), stride=(2, 2))\n",
      "  (dec4): ConvTranspose2d(32, 64, kernel_size=(2, 2), stride=(2, 2))\n",
      "  (out): Conv2d(64, 1, kernel_size=(3, 3), stride=(1, 1), padding=(1, 1))\n",
      ")\n"
     ]
    }
   ],
   "source": [
    "print(net)"
   ]
  },
  {
   "cell_type": "markdown",
   "metadata": {},
   "source": [
    "**Info Results**"
   ]
  },
  {
   "cell_type": "markdown",
   "metadata": {},
   "source": [
    "Train Loss vs Epoch"
   ]
  },
  {
   "cell_type": "code",
   "execution_count": 54,
   "metadata": {
    "scrolled": true
   },
   "outputs": [
    {
     "data": {
      "text/plain": [
       "Text(0, 0.5, 'Loss')"
      ]
     },
     "execution_count": 54,
     "metadata": {},
     "output_type": "execute_result"
    },
    {
     "data": {
      "image/png": "[encoded data removed]",
      "text/plain": [
       "<Figure size 432x288 with 1 Axes>"
      ]
     },
     "metadata": {
      "needs_background": "light"
     },
     "output_type": "display_data"
    }
   ],
   "source": [
    "plt.figure()\n",
    "plt.plot(train_loss)\n",
    "plt.title('Train Loss')\n",
    "plt.ylabel('Loss')"
   ]
  },
  {
   "cell_type": "markdown",
   "metadata": {},
   "source": [
    "train Loss vs Epoch"
   ]
  },
  {
   "cell_type": "code",
   "execution_count": 55,
   "metadata": {},
   "outputs": [
    {
     "data": {
      "text/plain": [
       "Text(0, 0.5, 'Loss')"
      ]
     },
     "execution_count": 55,
     "metadata": {},
     "output_type": "execute_result"
    },
    {
     "data": {
      "image/png": "[encoded data removed]",
      "text/plain": [
       "<Figure size 432x288 with 1 Axes>"
      ]
     },
     "metadata": {
      "needs_background": "light"
     },
     "output_type": "display_data"
    }
   ],
   "source": [
    "plt.figure()\n",
    "plt.plot(train_loss)\n",
    "plt.title('Test Loss')\n",
    "plt.ylabel('Loss')"
   ]
  },
  {
   "cell_type": "markdown",
   "metadata": {},
   "source": [
    "Train loss vs Test loss"
   ]
  },
  {
   "cell_type": "code",
   "execution_count": 56,
   "metadata": {
    "scrolled": true
   },
   "outputs": [
    {
     "data": {
      "text/plain": [
       "Text(0, 0.5, 'Loss')"
      ]
     },
     "execution_count": 56,
     "metadata": {},
     "output_type": "execute_result"
    },
    {
     "data": {
      "image/png": "[encoded data removed]",
      "text/plain": [
       "<Figure size 432x288 with 1 Axes>"
      ]
     },
     "metadata": {
      "needs_background": "light"
     },
     "output_type": "display_data"
    }
   ],
   "source": [
    "plt.figure()\n",
    "plt.plot(train_loss)\n",
    "plt.plot(validation_loss)\n",
    "plt.title('Train Loss vs Test Loss')\n",
    "plt.ylabel('Loss')"
   ]
  },
  {
   "cell_type": "markdown",
   "metadata": {},
   "source": [
    "pnsr - test"
   ]
  },
  {
   "cell_type": "code",
   "execution_count": 57,
   "metadata": {},
   "outputs": [
    {
     "data": {
      "image/png": "[encoded data removed]",
      "text/plain": [
       "<Figure size 432x288 with 1 Axes>"
      ]
     },
     "metadata": {
      "needs_background": "light"
     },
     "output_type": "display_data"
    }
   ],
   "source": [
    "plt.hist(pnsr_1_list,  linewidth=1, label ='clean-output')\n",
    "plt.hist(pnsr_2_list,  linewidth=1, label = 'clean-dirty')\n",
    "plt.hist(pnsr_3_list, linewidth=1, label = 'dirty-output')\n",
    "plt.legend(loc='upper right')\n",
    "plt.show()"
   ]
  },
  {
   "cell_type": "code",
   "execution_count": 61,
   "metadata": {},
   "outputs": [
    {
     "data": {
      "image/png": "[encoded data removed]",
      "text/plain": [
       "<Figure size 432x288 with 1 Axes>"
      ]
     },
     "metadata": {
      "needs_background": "light"
     },
     "output_type": "display_data"
    },
    {
     "data": {
      "image/png": "[encoded data removed]",
      "text/plain": [
       "<Figure size 432x288 with 1 Axes>"
      ]
     },
     "metadata": {
      "needs_background": "light"
     },
     "output_type": "display_data"
    },
    {
     "data": {
      "image/png": "[encoded data removed]",
      "text/plain": [
       "<Figure size 432x288 with 1 Axes>"
      ]
     },
     "metadata": {
      "needs_background": "light"
     },
     "output_type": "display_data"
    }
   ],
   "source": [
    "# Read image\n",
    "clean = cv2.imread(PATH_TEST+'/clean'+str(10)+'.png')\n",
    "dirty = cv2.imread(PATH_TEST+'/noisy'+str(10)+'.png')\n",
    "output =  cv2.imread(PATH_TEST+'/denoised'+str(10)+'.png')\n",
    "display(clean,'clean')\n",
    "display(dirty,'dirty')\n",
    "display(output,'output')"
   ]
  },
  {
   "cell_type": "code",
   "execution_count": null,
   "metadata": {},
   "outputs": [],
   "source": []
  }
 ],
 "metadata": {
  "accelerator": "GPU",
  "colab": {
   "collapsed_sections": [
    "ZOysBVxXLNDq",
    "uKW5tIafnchl"
   ],
   "name": "DeepLearning.ipynb",
   "provenance": [],
   "toc_visible": true
  },
  "kernelspec": {
   "display_name": "Python 3",
   "language": "python",
   "name": "python3"
  },
  "language_info": {
   "codemirror_mode": {
    "name": "ipython",
    "version": 3
   },
   "file_extension": ".py",
   "mimetype": "text/x-python",
   "name": "python",
   "nbconvert_exporter": "python",
   "pygments_lexer": "ipython3",
   "version": "3.9.1+"
  }
 },
 "nbformat": 4,
 "nbformat_minor": 1
}
